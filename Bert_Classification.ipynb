{
  "nbformat": 4,
  "nbformat_minor": 0,
  "metadata": {
    "colab": {
      "name": "Bert_Classification",
      "provenance": [],
      "collapsed_sections": []
    },
    "kernelspec": {
      "name": "python3",
      "display_name": "Python 3"
    },
    "accelerator": "GPU"
  },
  "cells": [
    {
      "cell_type": "code",
      "metadata": {
        "id": "9iIxMVQf8GHb",
        "colab_type": "code",
        "colab": {
          "base_uri": "https://localhost:8080/",
          "height": 122
        },
        "outputId": "3e2d7f62-7ce8-4697-bc21-f1e14bbf8b5d"
      },
      "source": [
        "!pip install sentencepiece"
      ],
      "execution_count": 1,
      "outputs": [
        {
          "output_type": "stream",
          "text": [
            "Collecting sentencepiece\n",
            "\u001b[?25l  Downloading https://files.pythonhosted.org/packages/d4/a4/d0a884c4300004a78cca907a6ff9a5e9fe4f090f5d95ab341c53d28cbc58/sentencepiece-0.1.91-cp36-cp36m-manylinux1_x86_64.whl (1.1MB)\n",
            "\r\u001b[K     |▎                               | 10kB 24.7MB/s eta 0:00:01\r\u001b[K     |▋                               | 20kB 5.8MB/s eta 0:00:01\r\u001b[K     |█                               | 30kB 7.0MB/s eta 0:00:01\r\u001b[K     |█▏                              | 40kB 7.9MB/s eta 0:00:01\r\u001b[K     |█▌                              | 51kB 6.8MB/s eta 0:00:01\r\u001b[K     |█▉                              | 61kB 7.7MB/s eta 0:00:01\r\u001b[K     |██▏                             | 71kB 8.0MB/s eta 0:00:01\r\u001b[K     |██▍                             | 81kB 8.4MB/s eta 0:00:01\r\u001b[K     |██▊                             | 92kB 7.7MB/s eta 0:00:01\r\u001b[K     |███                             | 102kB 8.0MB/s eta 0:00:01\r\u001b[K     |███▍                            | 112kB 8.0MB/s eta 0:00:01\r\u001b[K     |███▋                            | 122kB 8.0MB/s eta 0:00:01\r\u001b[K     |████                            | 133kB 8.0MB/s eta 0:00:01\r\u001b[K     |████▎                           | 143kB 8.0MB/s eta 0:00:01\r\u001b[K     |████▋                           | 153kB 8.0MB/s eta 0:00:01\r\u001b[K     |████▉                           | 163kB 8.0MB/s eta 0:00:01\r\u001b[K     |█████▏                          | 174kB 8.0MB/s eta 0:00:01\r\u001b[K     |█████▌                          | 184kB 8.0MB/s eta 0:00:01\r\u001b[K     |█████▉                          | 194kB 8.0MB/s eta 0:00:01\r\u001b[K     |██████                          | 204kB 8.0MB/s eta 0:00:01\r\u001b[K     |██████▍                         | 215kB 8.0MB/s eta 0:00:01\r\u001b[K     |██████▊                         | 225kB 8.0MB/s eta 0:00:01\r\u001b[K     |███████                         | 235kB 8.0MB/s eta 0:00:01\r\u001b[K     |███████▎                        | 245kB 8.0MB/s eta 0:00:01\r\u001b[K     |███████▋                        | 256kB 8.0MB/s eta 0:00:01\r\u001b[K     |████████                        | 266kB 8.0MB/s eta 0:00:01\r\u001b[K     |████████▎                       | 276kB 8.0MB/s eta 0:00:01\r\u001b[K     |████████▌                       | 286kB 8.0MB/s eta 0:00:01\r\u001b[K     |████████▉                       | 296kB 8.0MB/s eta 0:00:01\r\u001b[K     |█████████▏                      | 307kB 8.0MB/s eta 0:00:01\r\u001b[K     |█████████▌                      | 317kB 8.0MB/s eta 0:00:01\r\u001b[K     |█████████▊                      | 327kB 8.0MB/s eta 0:00:01\r\u001b[K     |██████████                      | 337kB 8.0MB/s eta 0:00:01\r\u001b[K     |██████████▍                     | 348kB 8.0MB/s eta 0:00:01\r\u001b[K     |██████████▊                     | 358kB 8.0MB/s eta 0:00:01\r\u001b[K     |███████████                     | 368kB 8.0MB/s eta 0:00:01\r\u001b[K     |███████████▎                    | 378kB 8.0MB/s eta 0:00:01\r\u001b[K     |███████████▋                    | 389kB 8.0MB/s eta 0:00:01\r\u001b[K     |████████████                    | 399kB 8.0MB/s eta 0:00:01\r\u001b[K     |████████████▏                   | 409kB 8.0MB/s eta 0:00:01\r\u001b[K     |████████████▌                   | 419kB 8.0MB/s eta 0:00:01\r\u001b[K     |████████████▉                   | 430kB 8.0MB/s eta 0:00:01\r\u001b[K     |█████████████▏                  | 440kB 8.0MB/s eta 0:00:01\r\u001b[K     |█████████████▍                  | 450kB 8.0MB/s eta 0:00:01\r\u001b[K     |█████████████▊                  | 460kB 8.0MB/s eta 0:00:01\r\u001b[K     |██████████████                  | 471kB 8.0MB/s eta 0:00:01\r\u001b[K     |██████████████▍                 | 481kB 8.0MB/s eta 0:00:01\r\u001b[K     |██████████████▋                 | 491kB 8.0MB/s eta 0:00:01\r\u001b[K     |███████████████                 | 501kB 8.0MB/s eta 0:00:01\r\u001b[K     |███████████████▎                | 512kB 8.0MB/s eta 0:00:01\r\u001b[K     |███████████████▋                | 522kB 8.0MB/s eta 0:00:01\r\u001b[K     |███████████████▉                | 532kB 8.0MB/s eta 0:00:01\r\u001b[K     |████████████████▏               | 542kB 8.0MB/s eta 0:00:01\r\u001b[K     |████████████████▌               | 552kB 8.0MB/s eta 0:00:01\r\u001b[K     |████████████████▉               | 563kB 8.0MB/s eta 0:00:01\r\u001b[K     |█████████████████               | 573kB 8.0MB/s eta 0:00:01\r\u001b[K     |█████████████████▍              | 583kB 8.0MB/s eta 0:00:01\r\u001b[K     |█████████████████▊              | 593kB 8.0MB/s eta 0:00:01\r\u001b[K     |██████████████████              | 604kB 8.0MB/s eta 0:00:01\r\u001b[K     |██████████████████▎             | 614kB 8.0MB/s eta 0:00:01\r\u001b[K     |██████████████████▋             | 624kB 8.0MB/s eta 0:00:01\r\u001b[K     |███████████████████             | 634kB 8.0MB/s eta 0:00:01\r\u001b[K     |███████████████████▎            | 645kB 8.0MB/s eta 0:00:01\r\u001b[K     |███████████████████▌            | 655kB 8.0MB/s eta 0:00:01\r\u001b[K     |███████████████████▉            | 665kB 8.0MB/s eta 0:00:01\r\u001b[K     |████████████████████▏           | 675kB 8.0MB/s eta 0:00:01\r\u001b[K     |████████████████████▌           | 686kB 8.0MB/s eta 0:00:01\r\u001b[K     |████████████████████▊           | 696kB 8.0MB/s eta 0:00:01\r\u001b[K     |█████████████████████           | 706kB 8.0MB/s eta 0:00:01\r\u001b[K     |█████████████████████▍          | 716kB 8.0MB/s eta 0:00:01\r\u001b[K     |█████████████████████▋          | 727kB 8.0MB/s eta 0:00:01\r\u001b[K     |██████████████████████          | 737kB 8.0MB/s eta 0:00:01\r\u001b[K     |██████████████████████▎         | 747kB 8.0MB/s eta 0:00:01\r\u001b[K     |██████████████████████▋         | 757kB 8.0MB/s eta 0:00:01\r\u001b[K     |██████████████████████▉         | 768kB 8.0MB/s eta 0:00:01\r\u001b[K     |███████████████████████▏        | 778kB 8.0MB/s eta 0:00:01\r\u001b[K     |███████████████████████▌        | 788kB 8.0MB/s eta 0:00:01\r\u001b[K     |███████████████████████▉        | 798kB 8.0MB/s eta 0:00:01\r\u001b[K     |████████████████████████        | 808kB 8.0MB/s eta 0:00:01\r\u001b[K     |████████████████████████▍       | 819kB 8.0MB/s eta 0:00:01\r\u001b[K     |████████████████████████▊       | 829kB 8.0MB/s eta 0:00:01\r\u001b[K     |█████████████████████████       | 839kB 8.0MB/s eta 0:00:01\r\u001b[K     |█████████████████████████▎      | 849kB 8.0MB/s eta 0:00:01\r\u001b[K     |█████████████████████████▋      | 860kB 8.0MB/s eta 0:00:01\r\u001b[K     |██████████████████████████      | 870kB 8.0MB/s eta 0:00:01\r\u001b[K     |██████████████████████████▎     | 880kB 8.0MB/s eta 0:00:01\r\u001b[K     |██████████████████████████▌     | 890kB 8.0MB/s eta 0:00:01\r\u001b[K     |██████████████████████████▉     | 901kB 8.0MB/s eta 0:00:01\r\u001b[K     |███████████████████████████▏    | 911kB 8.0MB/s eta 0:00:01\r\u001b[K     |███████████████████████████▌    | 921kB 8.0MB/s eta 0:00:01\r\u001b[K     |███████████████████████████▊    | 931kB 8.0MB/s eta 0:00:01\r\u001b[K     |████████████████████████████    | 942kB 8.0MB/s eta 0:00:01\r\u001b[K     |████████████████████████████▍   | 952kB 8.0MB/s eta 0:00:01\r\u001b[K     |████████████████████████████▊   | 962kB 8.0MB/s eta 0:00:01\r\u001b[K     |█████████████████████████████   | 972kB 8.0MB/s eta 0:00:01\r\u001b[K     |█████████████████████████████▎  | 983kB 8.0MB/s eta 0:00:01\r\u001b[K     |█████████████████████████████▋  | 993kB 8.0MB/s eta 0:00:01\r\u001b[K     |██████████████████████████████  | 1.0MB 8.0MB/s eta 0:00:01\r\u001b[K     |██████████████████████████████▏ | 1.0MB 8.0MB/s eta 0:00:01\r\u001b[K     |██████████████████████████████▌ | 1.0MB 8.0MB/s eta 0:00:01\r\u001b[K     |██████████████████████████████▉ | 1.0MB 8.0MB/s eta 0:00:01\r\u001b[K     |███████████████████████████████▏| 1.0MB 8.0MB/s eta 0:00:01\r\u001b[K     |███████████████████████████████▍| 1.1MB 8.0MB/s eta 0:00:01\r\u001b[K     |███████████████████████████████▊| 1.1MB 8.0MB/s eta 0:00:01\r\u001b[K     |████████████████████████████████| 1.1MB 8.0MB/s \n",
            "\u001b[?25hInstalling collected packages: sentencepiece\n",
            "Successfully installed sentencepiece-0.1.91\n"
          ],
          "name": "stdout"
        }
      ]
    },
    {
      "cell_type": "code",
      "metadata": {
        "id": "Mmvx_5po8JAQ",
        "colab_type": "code",
        "colab": {
          "base_uri": "https://localhost:8080/",
          "height": 122
        },
        "outputId": "0d61931f-a835-4a4a-ad05-d57f57aeebed"
      },
      "source": [
        "!pip install tokenization"
      ],
      "execution_count": 2,
      "outputs": [
        {
          "output_type": "stream",
          "text": [
            "Collecting tokenization\n",
            "  Downloading https://files.pythonhosted.org/packages/60/eb/8e1756b0ce07dab8b0f8267019738d0e4ea2fc8f6eb3fe4d433daac38a1d/tokenization-1.0.7-py3-none-any.whl\n",
            "Requirement already satisfied: regex in /usr/local/lib/python3.6/dist-packages (from tokenization) (2019.12.20)\n",
            "Installing collected packages: tokenization\n",
            "Successfully installed tokenization-1.0.7\n"
          ],
          "name": "stdout"
        }
      ]
    },
    {
      "cell_type": "code",
      "metadata": {
        "id": "9WVRFx5UICTU",
        "colab_type": "code",
        "colab": {
          "base_uri": "https://localhost:8080/",
          "height": 411
        },
        "outputId": "d11147b8-0dcc-4e53-8250-13a4ff3e0c0b"
      },
      "source": [
        "pip install bert-for-tf2"
      ],
      "execution_count": 3,
      "outputs": [
        {
          "output_type": "stream",
          "text": [
            "Collecting bert-for-tf2\n",
            "\u001b[?25l  Downloading https://files.pythonhosted.org/packages/35/5c/6439134ecd17b33fe0396fb0b7d6ce3c5a120c42a4516ba0e9a2d6e43b25/bert-for-tf2-0.14.4.tar.gz (40kB)\n",
            "\r\u001b[K     |████████                        | 10kB 16.4MB/s eta 0:00:01\r\u001b[K     |████████████████▏               | 20kB 6.3MB/s eta 0:00:01\r\u001b[K     |████████████████████████▎       | 30kB 7.7MB/s eta 0:00:01\r\u001b[K     |████████████████████████████████| 40kB 3.6MB/s \n",
            "\u001b[?25hCollecting py-params>=0.9.6\n",
            "  Downloading https://files.pythonhosted.org/packages/a4/bf/c1c70d5315a8677310ea10a41cfc41c5970d9b37c31f9c90d4ab98021fd1/py-params-0.9.7.tar.gz\n",
            "Collecting params-flow>=0.8.0\n",
            "  Downloading https://files.pythonhosted.org/packages/a9/95/ff49f5ebd501f142a6f0aaf42bcfd1c192dc54909d1d9eb84ab031d46056/params-flow-0.8.2.tar.gz\n",
            "Requirement already satisfied: numpy in /usr/local/lib/python3.6/dist-packages (from params-flow>=0.8.0->bert-for-tf2) (1.18.5)\n",
            "Requirement already satisfied: tqdm in /usr/local/lib/python3.6/dist-packages (from params-flow>=0.8.0->bert-for-tf2) (4.41.1)\n",
            "Building wheels for collected packages: bert-for-tf2, py-params, params-flow\n",
            "  Building wheel for bert-for-tf2 (setup.py) ... \u001b[?25l\u001b[?25hdone\n",
            "  Created wheel for bert-for-tf2: filename=bert_for_tf2-0.14.4-cp36-none-any.whl size=30114 sha256=554ea09246d6a0427a4ff7568fbb9372dab076cb3d51608308de0fe11c964be6\n",
            "  Stored in directory: /root/.cache/pip/wheels/cf/3f/4d/79d7735015a5f523648df90d871ce8e89a7df8185f7703eeab\n",
            "  Building wheel for py-params (setup.py) ... \u001b[?25l\u001b[?25hdone\n",
            "  Created wheel for py-params: filename=py_params-0.9.7-cp36-none-any.whl size=7302 sha256=bf5098005fa3905ecf03653e6efa2324138f60cc37d00b4d304458ae085fe12f\n",
            "  Stored in directory: /root/.cache/pip/wheels/67/f5/19/b461849a50aefdf4bab47c4756596e82ee2118b8278e5a1980\n",
            "  Building wheel for params-flow (setup.py) ... \u001b[?25l\u001b[?25hdone\n",
            "  Created wheel for params-flow: filename=params_flow-0.8.2-cp36-none-any.whl size=19473 sha256=c7aaff9180ec7876fe13f10a55a5871ec75b7eb8ac848b122e504f2842fb4f8c\n",
            "  Stored in directory: /root/.cache/pip/wheels/08/c8/7f/81c86b9ff2b86e2c477e3914175be03e679e596067dc630c06\n",
            "Successfully built bert-for-tf2 py-params params-flow\n",
            "Installing collected packages: py-params, params-flow, bert-for-tf2\n",
            "Successfully installed bert-for-tf2-0.14.4 params-flow-0.8.2 py-params-0.9.7\n"
          ],
          "name": "stdout"
        }
      ]
    },
    {
      "cell_type": "code",
      "metadata": {
        "id": "HMm291OxEsQj",
        "colab_type": "code",
        "colab": {}
      },
      "source": [
        "import pandas as pd \n",
        "train = pd.read_csv('/content/drive/My Drive/Colab Notebooks/train.csv')\n",
        "test = pd.read_csv('/content/drive/My Drive/Colab Notebooks/test.csv')\n"
      ],
      "execution_count": 4,
      "outputs": []
    },
    {
      "cell_type": "code",
      "metadata": {
        "id": "4mbXDUPnnJvK",
        "colab_type": "code",
        "colab": {}
      },
      "source": [
        "train = train.iloc[:5000,:]"
      ],
      "execution_count": 5,
      "outputs": []
    },
    {
      "cell_type": "code",
      "metadata": {
        "id": "Fn1FyIchFX-A",
        "colab_type": "code",
        "colab": {
          "base_uri": "https://localhost:8080/",
          "height": 34
        },
        "outputId": "921c7840-1d07-48cd-ff0e-1de6b382faf9"
      },
      "source": [
        "train.shape"
      ],
      "execution_count": 6,
      "outputs": [
        {
          "output_type": "execute_result",
          "data": {
            "text/plain": [
              "(5000, 5)"
            ]
          },
          "metadata": {
            "tags": []
          },
          "execution_count": 6
        }
      ]
    },
    {
      "cell_type": "code",
      "metadata": {
        "id": "PhyRRMov75tj",
        "colab_type": "code",
        "colab": {
          "base_uri": "https://localhost:8080/",
          "height": 71
        },
        "outputId": "f96907ad-a235-4931-a250-ca92e3fd9389"
      },
      "source": [
        "import numpy as np\n",
        "import pandas as pd\n",
        "import tensorflow as tf\n",
        "from tensorflow.keras.layers import Dense, Input\n",
        "from tensorflow.keras.optimizers import Adam\n",
        "from tensorflow.keras.models import Model\n",
        "from tensorflow.keras.callbacks import ModelCheckpoint\n",
        "import tensorflow_hub as hub\n",
        "import tokenization\n",
        "import seaborn as sns\n",
        "import matplotlib.pyplot as plt\n",
        "import re\n",
        "from bert import bert_tokenization\n"
      ],
      "execution_count": 7,
      "outputs": [
        {
          "output_type": "stream",
          "text": [
            "/usr/local/lib/python3.6/dist-packages/statsmodels/tools/_testing.py:19: FutureWarning: pandas.util.testing is deprecated. Use the functions in the public API at pandas.testing instead.\n",
            "  import pandas.util.testing as tm\n"
          ],
          "name": "stderr"
        }
      ]
    },
    {
      "cell_type": "code",
      "metadata": {
        "id": "l-SSt1mR60kr",
        "colab_type": "code",
        "colab": {}
      },
      "source": [
        "def bert_encode(texts, tokenizer, max_len=512):\n",
        "    all_tokens = []\n",
        "    all_masks = []\n",
        "    all_segments = []\n",
        "    \n",
        "    for text in texts:\n",
        "        text = tokenizer.tokenize(text)\n",
        "            \n",
        "        text = text[:max_len-2]\n",
        "        input_sequence = [\"[CLS]\"] + text + [\"[SEP]\"]\n",
        "        pad_len = max_len - len(input_sequence)\n",
        "        \n",
        "        tokens = tokenizer.convert_tokens_to_ids(input_sequence)\n",
        "        tokens += [0] * pad_len\n",
        "        pad_masks = [1] * len(input_sequence) + [0] * pad_len\n",
        "        segment_ids = [0] * max_len\n",
        "        \n",
        "        all_tokens.append(tokens)\n",
        "        all_masks.append(pad_masks)\n",
        "        all_segments.append(segment_ids)\n",
        "\n",
        "    return np.array(all_tokens), np.array(all_masks), np.array(all_segments)"
      ],
      "execution_count": 8,
      "outputs": []
    },
    {
      "cell_type": "code",
      "metadata": {
        "id": "MyrRslGO66jL",
        "colab_type": "code",
        "colab": {}
      },
      "source": [
        "def build_model(bert_layer, max_len=512):\n",
        "    input_word_ids = Input(shape=(max_len,), dtype=tf.int32, name=\"input_word_ids\")\n",
        "    input_mask = Input(shape=(max_len,), dtype=tf.int32, name=\"input_mask\")\n",
        "    segment_ids = Input(shape=(max_len,), dtype=tf.int32, name=\"segment_ids\")\n",
        "\n",
        "    _, sequence_output = bert_layer([input_word_ids, input_mask, segment_ids])\n",
        "    clf_output = sequence_output[:, 0, :]\n",
        "    out = Dense(1, activation='sigmoid')(clf_output)\n",
        "    \n",
        "    model = Model(inputs=[input_word_ids, input_mask, segment_ids], outputs=out)\n",
        "    model.compile(Adam(lr=1e-5), loss='binary_crossentropy', metrics=['accuracy'])\n",
        "    \n",
        "    return model"
      ],
      "execution_count": 9,
      "outputs": []
    },
    {
      "cell_type": "code",
      "metadata": {
        "id": "tomvjW1C67M8",
        "colab_type": "code",
        "colab": {}
      },
      "source": [
        "module_url = \"https://tfhub.dev/tensorflow/bert_en_uncased_L-24_H-1024_A-16/1\"\n",
        "bert_layer = hub.KerasLayer(module_url, trainable=True)"
      ],
      "execution_count": 10,
      "outputs": []
    },
    {
      "cell_type": "code",
      "metadata": {
        "id": "ER84UGWV7ASK",
        "colab_type": "code",
        "colab": {}
      },
      "source": [
        "vocab_file = bert_layer.resolved_object.vocab_file.asset_path.numpy()\n",
        "do_lower_case = bert_layer.resolved_object.do_lower_case.numpy()\n",
        "tokenizer = bert_tokenization.FullTokenizer(vocab_file, do_lower_case)"
      ],
      "execution_count": 11,
      "outputs": []
    },
    {
      "cell_type": "code",
      "metadata": {
        "id": "u3s-0Liu7M3z",
        "colab_type": "code",
        "colab": {}
      },
      "source": [
        "train_input = bert_encode(train['text'].values, tokenizer, max_len=160)\n",
        "test_input = bert_encode(test['text'].values, tokenizer, max_len=160)\n",
        "train_labels = train['target'].values"
      ],
      "execution_count": 12,
      "outputs": []
    },
    {
      "cell_type": "code",
      "metadata": {
        "id": "r5zS3Qik7Noz",
        "colab_type": "code",
        "colab": {
          "base_uri": "https://localhost:8080/",
          "height": 391
        },
        "outputId": "5b5db1bb-40f0-480d-c3f4-b38f58ebe479"
      },
      "source": [
        "model = build_model(bert_layer, max_len=160)\n",
        "model.summary()"
      ],
      "execution_count": 13,
      "outputs": [
        {
          "output_type": "stream",
          "text": [
            "Model: \"model\"\n",
            "__________________________________________________________________________________________________\n",
            "Layer (type)                    Output Shape         Param #     Connected to                     \n",
            "==================================================================================================\n",
            "input_word_ids (InputLayer)     [(None, 160)]        0                                            \n",
            "__________________________________________________________________________________________________\n",
            "input_mask (InputLayer)         [(None, 160)]        0                                            \n",
            "__________________________________________________________________________________________________\n",
            "segment_ids (InputLayer)        [(None, 160)]        0                                            \n",
            "__________________________________________________________________________________________________\n",
            "keras_layer (KerasLayer)        [(None, 1024), (None 335141889   input_word_ids[0][0]             \n",
            "                                                                 input_mask[0][0]                 \n",
            "                                                                 segment_ids[0][0]                \n",
            "__________________________________________________________________________________________________\n",
            "tf_op_layer_strided_slice (Tens [(None, 1024)]       0           keras_layer[0][1]                \n",
            "__________________________________________________________________________________________________\n",
            "dense (Dense)                   (None, 1)            1025        tf_op_layer_strided_slice[0][0]  \n",
            "==================================================================================================\n",
            "Total params: 335,142,914\n",
            "Trainable params: 335,142,913\n",
            "Non-trainable params: 1\n",
            "__________________________________________________________________________________________________\n"
          ],
          "name": "stdout"
        }
      ]
    },
    {
      "cell_type": "code",
      "metadata": {
        "id": "5lB7mMRY7QJ7",
        "colab_type": "code",
        "colab": {
          "base_uri": "https://localhost:8080/",
          "height": 34
        },
        "outputId": "da2de75d-1c95-47fb-8f09-bdfaff35185a"
      },
      "source": [
        "checkpoint = ModelCheckpoint('model.h5', monitor='val_loss', save_best_only=True)\n",
        "\n",
        "train_history = model.fit(\n",
        "    train_input, train_labels,\n",
        "    validation_split=0.1,\n",
        "    epochs=1,\n",
        "    callbacks=[checkpoint],\n",
        "    batch_size=1\n",
        ")"
      ],
      "execution_count": null,
      "outputs": [
        {
          "output_type": "stream",
          "text": [
            "3863/4500 [========================>.....] - ETA: 2:39 - loss: 0.4560 - accuracy: 0.8105"
          ],
          "name": "stdout"
        }
      ]
    },
    {
      "cell_type": "code",
      "metadata": {
        "id": "ePRW1O6t7Tnw",
        "colab_type": "code",
        "colab": {}
      },
      "source": [
        "model.load_weights('model.h5')\n",
        "test_pred = model.predict(test_input)"
      ],
      "execution_count": null,
      "outputs": []
    },
    {
      "cell_type": "code",
      "metadata": {
        "id": "SDvVp8e0MX7M",
        "colab_type": "code",
        "colab": {}
      },
      "source": [
        ""
      ],
      "execution_count": null,
      "outputs": []
    }
  ]
}